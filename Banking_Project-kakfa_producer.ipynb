{
 "cells": [
  {
   "cell_type": "code",
   "execution_count": null,
   "id": "748dc829",
   "metadata": {},
   "outputs": [],
   "source": [
    "# install kafka\n",
    "\n",
    "#pip install kafka-python"
   ]
  },
  {
   "cell_type": "code",
   "execution_count": null,
   "id": "baefc611",
   "metadata": {},
   "outputs": [],
   "source": [
    "# import required libraries\n",
    "\n",
    "import pandas as pd\n",
    "from kafka import KafkaProducer\n",
    "from time import sleep\n",
    "from json import dumps\n",
    "import json"
   ]
  },
  {
   "cell_type": "code",
   "execution_count": null,
   "id": "d245b7d0",
   "metadata": {},
   "outputs": [],
   "source": [
    "#import logging\n",
    "#logging.basicConfig(level=logging.DEBUG)"
   ]
  },
  {
   "cell_type": "code",
   "execution_count": null,
   "id": "13af973e",
   "metadata": {},
   "outputs": [],
   "source": [
    "# Creating object for Kafka producer\n",
    "\n",
    "producer = KafkaProducer(bootstrap_servers=[':9092'], # EC2 instance public ip to be addded here\n",
    "                         value_serializer=lambda x: \n",
    "                         dumps(x).encode('utf-8'))"
   ]
  },
  {
   "cell_type": "code",
   "execution_count": null,
   "id": "ea6c9368",
   "metadata": {},
   "outputs": [],
   "source": [
    "# producer.send('kafka_bank_project', value={'Hello':'DE World'})"
   ]
  },
  {
   "cell_type": "code",
   "execution_count": null,
   "id": "ece09c10",
   "metadata": {},
   "outputs": [],
   "source": [
    "df = pd.read_csv(\"Dataset/BankingData.csv\")"
   ]
  },
  {
   "cell_type": "code",
   "execution_count": null,
   "id": "aaffebb6",
   "metadata": {},
   "outputs": [],
   "source": [
    "df.head()"
   ]
  },
  {
   "cell_type": "code",
   "execution_count": null,
   "id": "2bc0d776",
   "metadata": {},
   "outputs": [],
   "source": [
    "while True:\n",
    "    dict_banking_data = df.sample(1).to_dict(orient=\"records\")[0]\n",
    "    producer.send('kafka_bank_project', value=dict_banking_data)\n",
    "    sleep(1)"
   ]
  },
  {
   "cell_type": "code",
   "execution_count": null,
   "id": "f51f9e0f",
   "metadata": {},
   "outputs": [],
   "source": [
    "producer.flush()"
   ]
  },
  {
   "cell_type": "code",
   "execution_count": null,
   "id": "4e31e417",
   "metadata": {},
   "outputs": [],
   "source": []
  }
 ],
 "metadata": {
  "kernelspec": {
   "display_name": "Python 3 (ipykernel)",
   "language": "python",
   "name": "python3"
  },
  "language_info": {
   "codemirror_mode": {
    "name": "ipython",
    "version": 3
   },
   "file_extension": ".py",
   "mimetype": "text/x-python",
   "name": "python",
   "nbconvert_exporter": "python",
   "pygments_lexer": "ipython3",
   "version": "3.9.13"
  }
 },
 "nbformat": 4,
 "nbformat_minor": 5
}
