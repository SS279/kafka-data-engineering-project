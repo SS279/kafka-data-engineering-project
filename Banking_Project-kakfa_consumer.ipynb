{
 "cells": [
  {
   "cell_type": "code",
   "execution_count": null,
   "id": "c3ea5dfe",
   "metadata": {},
   "outputs": [],
   "source": [
    "# install kafka\n",
    "\n",
    "#pip install kafka-python\n",
    "#pip install s3fs"
   ]
  },
  {
   "cell_type": "code",
   "execution_count": null,
   "id": "53ea5cc5",
   "metadata": {},
   "outputs": [],
   "source": [
    "# import required libraries\n",
    "\n",
    "import pandas as pd\n",
    "from kafka import KafkaConsumer\n",
    "from time import sleep\n",
    "from json import dumps,loads\n",
    "import json\n",
    "from s3fs import S3FileSystem"
   ]
  },
  {
   "cell_type": "code",
   "execution_count": null,
   "id": "5ae208b1",
   "metadata": {},
   "outputs": [],
   "source": [
    "# Creating object for Kafka consumer\n",
    "\n",
    "consumer = KafkaConsumer(\n",
    "    'kafka_bank_project',\n",
    "     bootstrap_servers=[':9092'], # EC2 instance public ip to be addded here\n",
    "    value_deserializer=lambda x: loads(x.decode('utf-8')))"
   ]
  },
  {
   "cell_type": "code",
   "execution_count": null,
   "id": "784bb214",
   "metadata": {},
   "outputs": [],
   "source": [
    "# for c in consumer:\n",
    "#     print (c.value)"
   ]
  },
  {
   "cell_type": "code",
   "execution_count": null,
   "id": "75b70667",
   "metadata": {},
   "outputs": [],
   "source": [
    "s3 = S3FileSystem()"
   ]
  },
  {
   "cell_type": "code",
   "execution_count": null,
   "id": "de9e6b84",
   "metadata": {},
   "outputs": [],
   "source": [
    "# for count, i in enumerate(consumer):\n",
    "#     print(count) \n",
    "#     print(i.value)"
   ]
  },
  {
   "cell_type": "code",
   "execution_count": null,
   "id": "3195c5b1",
   "metadata": {},
   "outputs": [],
   "source": [
    "for count, i in enumerate(consumer):\n",
    "    with s3.open(\"s3://kafka-banking-project/bank_project_{}.json\".format(count), 'w') as file:\n",
    "        json.dump(i.value,file )"
   ]
  },
  {
   "cell_type": "code",
   "execution_count": null,
   "id": "bf176158",
   "metadata": {},
   "outputs": [],
   "source": []
  }
 ],
 "metadata": {
  "kernelspec": {
   "display_name": "Python 3 (ipykernel)",
   "language": "python",
   "name": "python3"
  },
  "language_info": {
   "codemirror_mode": {
    "name": "ipython",
    "version": 3
   },
   "file_extension": ".py",
   "mimetype": "text/x-python",
   "name": "python",
   "nbconvert_exporter": "python",
   "pygments_lexer": "ipython3",
   "version": "3.9.13"
  }
 },
 "nbformat": 4,
 "nbformat_minor": 5
}
